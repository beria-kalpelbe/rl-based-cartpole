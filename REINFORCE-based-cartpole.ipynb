{
  "cells": [
    {
      "cell_type": "markdown",
      "metadata": {
        "id": "m2s4kN_QPQVe"
      },
      "source": [
        "# **REINFORCE**\n",
        "\n",
        "<img src=\"https://drive.google.com/thumbnail?id=1sNbFSGUMoRekB-3eZsrjOyK9uo4l7GuG\" alt=\"Robot says hello!\">\n",
        "\n",
        "<hr>"
      ]
    },
    {
      "cell_type": "markdown",
      "metadata": {
        "id": "6EqhIg1odqg0"
      },
      "source": [
        "## Setup"
      ]
    },
    {
      "cell_type": "code",
      "execution_count": null,
      "metadata": {
        "id": "4boGA9rYdt9l"
      },
      "outputs": [],
      "source": [
        "# @title Install required packages (run me) { display-mode: \"form\" }\n",
        "# @markdown This may take a minute or two to complete.\n",
        "%%capture\n",
        "!pip install jaxlib\n",
        "!pip install jax\n",
        "!pip install git+https://github.com/deepmind/dm-haiku\n",
        "!pip install gym==0.25\n",
        "!pip install gym[box2d]\n",
        "!pip install optax\n",
        "!pip install matplotlib\n",
        "!pip install chex"
      ]
    },
    {
      "cell_type": "code",
      "execution_count": null,
      "metadata": {
        "id": "gwbqggmcRjMy"
      },
      "outputs": [],
      "source": [
        "# @title Import required packages (run me) { display-mode: \"form\" }\n",
        "%%capture\n",
        "import copy\n",
        "from shutil import rmtree # deleting directories\n",
        "import random\n",
        "import collections # useful data structures\n",
        "import numpy as np\n",
        "import gym # reinforcement learning environments\n",
        "from gym.wrappers import RecordVideo\n",
        "import jax\n",
        "import jax.numpy as jnp # jax numpy\n",
        "import haiku as hk # jax neural network library\n",
        "import optax # jax optimizer library\n",
        "import matplotlib.pyplot as plt # graph plotting library\n",
        "from IPython.display import HTML\n",
        "from base64 import b64encode\n",
        "import chex\n",
        "\n",
        "# Hide warnings\n",
        "import warnings\n",
        "warnings.filterwarnings('ignore')"
      ]
    },
    {
      "cell_type": "markdown",
      "metadata": {
        "id": "I07EfY1mxY_1"
      },
      "source": [
        "### **Environment (warm-up)**\n",
        "\n",
        "We will begin by using the simple **CartPole** environment. In CartPole, the task is for the agent to learn to balance a pole for as long as possible by moving a cart *left* or *right*.\n",
        "\n",
        "<img src=\"https://miro.medium.com/max/600/1*v8KcdjfVGf39yvTpXDTCGQ.gif\" width=\"30%\" />\n",
        "\n",
        "- **State space**: The state of the environment is represented by four numbers; *angular position of the pole, angular velocity of the pole, position of the cart, velocity of the cart*.\n",
        "- **Action space**: There are only two actions; *left* and *right*. As such, the actions can be represented by integers $0$ and $1$.  \n",
        "- **Dynamics**: State transitions are deterministic and the agent receives a reward of `1` for every timestep the pole is still upright. If the pole falls over, the game is over and the agent receives no more reward. The game is also over after `500` timesteps, so the maximum reward the agent can collect is `500`.\n",
        "\n",
        "In CartPole, the environment is considered solved when the agent can reliably achieve an episode return of 500."
      ]
    },
    {
      "cell_type": "code",
      "execution_count": null,
      "metadata": {
        "colab": {
          "base_uri": "https://localhost:8080/"
        },
        "id": "eS7xm0rNxdHe",
        "outputId": "0f809cb8-10ba-4cdb-b147-af74b7f11a5f"
      },
      "outputs": [
        {
          "name": "stdout",
          "output_type": "stream",
          "text": [
            "Initial State:: [ 0.02253272  0.04319133 -0.00955649 -0.0287383 ]\n",
            "Environment Obs Space Shape: (4,)\n",
            "Environment action space: Discrete(2)\n",
            "Number of actions: 2\n"
          ]
        }
      ],
      "source": [
        "# Create the environment\n",
        "env_name = \"CartPole-v1\"  # \"LunarLander-v2\" (for later...)\n",
        "env = gym.make(env_name)\n",
        "\n",
        "# Reset the environment\n",
        "s_0 = env.reset()\n",
        "print(\"Initial State::\", s_0)\n",
        "\n",
        "# Get environment obs space\n",
        "obs_shape = env.observation_space.shape\n",
        "print(\"Environment Obs Space Shape:\", obs_shape)\n",
        "\n",
        "# Get action space - e.g. discrete or continuous\n",
        "print(f\"Environment action space: {env.action_space}\")\n",
        "\n",
        "# Get num actions\n",
        "num_actions = env.action_space.n\n",
        "print(f\"Number of actions: {num_actions}\")"
      ]
    },
    {
      "cell_type": "markdown",
      "metadata": {
        "id": "XEnSjZVESrxc"
      },
      "source": [
        "## **Policy Gradients (PG)**\n",
        "The goal in RL is to find a policy which maximise the expected cummulative reward (return) the agent receives from the environment. As shown in class, we have a wide array of algorithms depending on the representation of the return, denoted $Ψ$. In general then, we can write the RL objective as:\n",
        "\n",
        "$$J(\\pi_\\theta)=\\mathrm{E}_{\\tau\\sim\\pi_\\theta}\\ [Ψ(\\tau)],$$\n",
        "\n",
        "where $\\pi_\\theta$ is a policy parametrised by $\\theta$, $\\mathrm{E}$ means *expectation*, $\\tau$ is shorthand for \"*episode*\", $\\tau\\sim\\pi_\\theta$ is shorthand for \"*episodes sampled using the policy* $\\pi_\\theta$\", and $Ψ(\\tau)$ is a *representation* of the return of episode $\\tau$, which could simply be the return itself, i.e. $Ψ(\\tau) = G(\\tau)$.\n",
        "\n",
        "Then, the goal in RL is to find the parameters $\\theta$ that maximise the function $J(\\pi_\\theta)$. One way to find these parameters is to perform gradient *ascent* on $J(\\pi_\\theta)$ with respect to the parameters $\\theta$:\n",
        "\n",
        "$$\\theta_{k+1}=\\theta_k + \\alpha \\nabla J(\\pi_\\theta)|_{\\theta_{k}},$$\n",
        "\n",
        "where $\\nabla J(\\pi_\\theta)|_{\\theta_{k}}$ is the gradient of the expected return with respect to the policy parameters $\\theta_k$ and $\\alpha$ is the step size. This quantity, $\\nabla J(\\pi_\\theta)$, is also called the **policy gradient** and is very important in RL. If we can compute the policy gradient, then we will have a means by which to directly optimise our policy.\n",
        "\n",
        "As it turns out, as we saw in class, we can compute the policy gradient as follows:\n",
        "\n",
        "\n",
        "$$\\nabla_{\\theta} J(\\pi_{\\theta})=\\underset{\\tau \\sim \\pi_{\\theta}}{\\mathrm{E}}[\\sum_{t=0}^{T} Ψ_t \\nabla_{\\theta} \\log \\pi_{\\theta}(a_{t} \\mid s_{t})]$$\n",
        "\n",
        "Informaly, the policy gradient is equal to the gradient of the log of the probability of the action chosen, multiplied by the (estimated) return of the episode in which the action was taken.\n"
      ]
    },
    {
      "cell_type": "markdown",
      "metadata": {
        "id": "BTnTzgtSuy-y"
      },
      "source": [
        "### **REINFORCE**\n",
        "REINFORCE is a simple RL algorithm that uses the policy gradient to find the optimal policy by increasing the probability of choosing actions (reinforcing actions) that tend to lead to high return, as computed directly by $G(\\tau)$."
      ]
    },
    {
      "cell_type": "code",
      "execution_count": null,
      "metadata": {
        "id": "bJObUsoUrOyV"
      },
      "outputs": [],
      "source": [
        "def compute_weighted_log_prob(action_prob, episode_return):\n",
        "\n",
        "    log_prob = jnp.log(action_prob)\n",
        "\n",
        "    weighted_log_prob = episode_return * log_prob\n",
        "\n",
        "    return weighted_log_prob"
      ]
    },
    {
      "cell_type": "markdown",
      "metadata": {
        "id": "NmgW9UJ3tIpl"
      },
      "source": [
        "### **Return**"
      ]
    },
    {
      "cell_type": "code",
      "execution_count": null,
      "metadata": {
        "id": "nV1Hww8E3dUJ"
      },
      "outputs": [],
      "source": [
        "def compute_returns(rewards, gamma=0.99):\n",
        "    \"\"\"\n",
        "    This function should take a list of rewards as input and\n",
        "    compute the return for each timestep.\n",
        "\n",
        "    EXAMPLE: compute_returns([1,2,3,4]) = [10, 9, 7, 4], if gamma=1\n",
        "\n",
        "    Arguments:\n",
        "        rewards[t]: is the reward at time step t.\n",
        "        gamma: discount factor\n",
        "\n",
        "    -- IMPORTANT: use the default discount to check your implementation\n",
        "\n",
        "    Returns:\n",
        "        returns[t] should be the return at timestep t.\n",
        "    \"\"\"\n",
        "\n",
        "    returns = []\n",
        "\n",
        "    returns.append(rewards[-1])\n",
        "    k = len(rewards)-2\n",
        "    while k >= 0:\n",
        "      returns = [gamma * returns[0] + rewards[k]] + returns\n",
        "      k = k-1\n",
        "\n",
        "    return returns"
      ]
    },
    {
      "cell_type": "markdown",
      "metadata": {
        "id": "IboxN9MS65i5"
      },
      "source": [
        "### **REINFORCE memory**\n",
        "Next we will need to make a new agent memory to store the returns $G_t$ along with the observation $o_t$ and action $a_t$ at every timestep. Below we implemented such a memory module for you. The function `memory.sample()` will return a batch of the last 500 memories. You are welcome to read through the code to try and understand it, but it is not required. Therefore, we hide the code by default."
      ]
    },
    {
      "cell_type": "code",
      "execution_count": null,
      "metadata": {
        "id": "xhS4V6auRjM3"
      },
      "outputs": [],
      "source": [
        "# @title Memory implementation (run me) {display-mode: \"form\"}\n",
        "\n",
        "# NamedTuple to store memory\n",
        "EpisodeReturnsMemory = collections.namedtuple(\"EpisodeReturnsMemory\", [\"obs\", \"action\", \"returns\"])\n",
        "\n",
        "class EpisodeReturnsBuffer:\n",
        "\n",
        "    def __init__(self, num_transitions_to_store=512, batch_size=256):\n",
        "        self.batch_size = batch_size\n",
        "        self.memory_buffer = collections.deque(maxlen=num_transitions_to_store)\n",
        "        self.current_episode_transition_buffer = []\n",
        "\n",
        "    def push(self, transition):\n",
        "        self.current_episode_transition_buffer.append(transition)\n",
        "\n",
        "        if transition.done:\n",
        "\n",
        "            episode_rewards = []\n",
        "            for t in self.current_episode_transition_buffer:\n",
        "                episode_rewards.append(t.reward)\n",
        "\n",
        "            G = compute_returns(episode_rewards)\n",
        "\n",
        "            for i, t in enumerate(self.current_episode_transition_buffer):\n",
        "                memory = EpisodeReturnsMemory(t.obs, t.action, G[i])\n",
        "                self.memory_buffer.append(memory)\n",
        "\n",
        "            # Reset episode buffer\n",
        "            self.current_episode_transition_buffer = []\n",
        "\n",
        "\n",
        "    def is_ready(self):\n",
        "        return len(self.memory_buffer) >= self.batch_size\n",
        "\n",
        "    def sample(self):\n",
        "        random_memory_sample = random.sample(self.memory_buffer, self.batch_size)\n",
        "\n",
        "        obs_batch, action_batch, returns_batch = zip(*random_memory_sample)\n",
        "\n",
        "        return EpisodeReturnsMemory(\n",
        "            np.stack(obs_batch).astype(\"float32\"),\n",
        "            np.asarray(action_batch).astype(\"int32\"),\n",
        "            np.asarray(returns_batch).astype(\"int32\")\n",
        "        )\n",
        "\n",
        "\n",
        "# Instantiate Memory\n",
        "REINFORCE_memory = EpisodeReturnsBuffer(num_transitions_to_store=512, batch_size=256)"
      ]
    },
    {
      "cell_type": "markdown",
      "metadata": {
        "id": "Idkav_aSYXvz"
      },
      "source": [
        "### **Policy neural network**\n",
        "Next, we will use a simple neural network to aproximate the policy. Our policy neural network will have an input layer that takes the observation as input and passes it through two hidden layers and then outputs one scalar value for each of the possible actions. So, in CartPole the output layer will have size `2`.\n",
        "\n",
        "[Haiku](https://github.com/deepmind/dm-haiku) is a library for implementing neural networks is JAX. Below we have implemented a simple function to make the policy network for you.\n"
      ]
    },
    {
      "cell_type": "code",
      "execution_count": null,
      "metadata": {
        "id": "j2XO7VkORjM4"
      },
      "outputs": [],
      "source": [
        "def make_policy_network(num_actions: int, layers=[20, 20]) -> hk.Transformed:\n",
        "  \"\"\"Factory for a simple MLP network for the policy.\"\"\"\n",
        "\n",
        "  def policy_network(obs):\n",
        "    network = hk.Sequential(\n",
        "        [\n",
        "            hk.Flatten(),\n",
        "            hk.nets.MLP(layers + [num_actions])\n",
        "        ]\n",
        "    )\n",
        "    return network(obs)\n",
        "\n",
        "  return hk.without_apply_rng(hk.transform(policy_network))"
      ]
    },
    {
      "cell_type": "markdown",
      "metadata": {
        "id": "1GR2y8FjaG-G"
      },
      "source": [
        "Haiku networks have two important functions you need to know about. The first is the `network.init(<random_key>, <input>)`, which returns a set of random initial parameters. The second method is the `network.apply(<params>, <input>)` which passes an input through the network using the set of parameters provided."
      ]
    },
    {
      "cell_type": "code",
      "execution_count": null,
      "metadata": {
        "colab": {
          "base_uri": "https://localhost:8080/"
        },
        "id": "fJrn9o-Vatkw",
        "outputId": "f4ae993f-1a75-4730-8f24-1daa7f71d2b5"
      },
      "outputs": [
        {
          "name": "stdout",
          "output_type": "stream",
          "text": [
            "Initial params: dict_keys(['mlp/~/linear_0', 'mlp/~/linear_1', 'mlp/~/linear_2'])\n",
            "Policy network output: [ 0.91155875 -0.39617383]\n"
          ]
        }
      ],
      "source": [
        "# Example\n",
        "POLICY_NETWORK = make_policy_network(num_actions=num_actions, layers=[20,20])\n",
        "random_key = jax.random.PRNGKey(42) # random key\n",
        "dummy_obs = np.ones(obs_shape, \"float32\")\n",
        "\n",
        "# Initialise parameters\n",
        "REINFORCE_params = POLICY_NETWORK.init(random_key, dummy_obs)\n",
        "print(\"Initial params:\", REINFORCE_params.keys())\n",
        "\n",
        "# Pass input through the network\n",
        "output = POLICY_NETWORK.apply(REINFORCE_params, dummy_obs)\n",
        "print(\"Policy network output:\", output)\n"
      ]
    },
    {
      "cell_type": "markdown",
      "metadata": {
        "id": "MlouUBvoeunz"
      },
      "source": [
        "The outputs of our policy network are [logits](https://qr.ae/pv4YTe). To convert this into a probability distribution over actions we pass the logits to the [softmax](https://en.wikipedia.org/wiki/Softmax_function) function.\n",
        "\n",
        "### **REINFORCE action selector**"
      ]
    },
    {
      "cell_type": "code",
      "execution_count": null,
      "metadata": {
        "id": "m3Z8DxUmeOGJ"
      },
      "outputs": [],
      "source": [
        "def sample_action(random_key, logits):\n",
        "\n",
        "  action = jax.random.categorical(key=random_key, logits=logits)\n",
        "\n",
        "  return action"
      ]
    },
    {
      "cell_type": "markdown",
      "metadata": {
        "id": "jP5UH87VRjM4"
      },
      "source": [
        "Now we can implement the `REINFORCE_choose_action` function. We will pass the observation through the policy network to compute the logits and then pass the logits to the `sample_action` function to choose and action."
      ]
    },
    {
      "cell_type": "code",
      "execution_count": null,
      "metadata": {
        "id": "UJTzrDAZ0Ul5"
      },
      "outputs": [],
      "source": [
        "def REINFORCE_choose_action(key, params, actor_state, obs, evaluation=False):\n",
        "  obs = jnp.expand_dims(obs, axis=0) # add dummy batch dim before passing through network\n",
        "\n",
        "  # Pass obs through policy network to compute logits\n",
        "  logits = POLICY_NETWORK.apply(params, obs)\n",
        "  logits = logits[0] # remove batch dim\n",
        "\n",
        "  # Randomly sample action\n",
        "  sampled_action = sample_action(key, logits)\n",
        "\n",
        "  return sampled_action, actor_state"
      ]
    },
    {
      "cell_type": "markdown",
      "metadata": {
        "id": "NI26SLAb7iRo"
      },
      "source": [
        "Now that we have  implemented the `REINFORCE_choose_action` function, all we have left to do is to make a `REINFORCE_learn` function. The learn function should use the `weighted_log_prob` function we made earlier to compute the policy gradient loss and apply the gradient updates to our neural network."
      ]
    },
    {
      "cell_type": "markdown",
      "metadata": {
        "id": "36ALCJESQJ8e"
      },
      "source": [
        "### **Policy gradient loss**\n",
        "\n",
        "The `policy_gradient_loss` function below compute the action probabilities by passing the `logits` through the softmax function. Then extract the probability of the given `action` (using array indexing) and compute the `weighted_log_prob` using the function we made earlier.\n"
      ]
    },
    {
      "cell_type": "code",
      "execution_count": null,
      "metadata": {
        "id": "9sUKkqx0RjM4"
      },
      "outputs": [],
      "source": [
        "def policy_gradient_loss(action, logits, returns):\n",
        "\n",
        "  all_action_probs =  jax.nn.softmax(logits)# convert logits into probs\n",
        "\n",
        "  action_prob = all_action_probs[action] # using array indexing to get prob of action\n",
        "\n",
        "  weighted_log_prob = jnp.log(action_prob)*returns\n",
        "\n",
        "  loss = - weighted_log_prob # negative because we want gradient `ascent`\n",
        "\n",
        "  return loss"
      ]
    },
    {
      "cell_type": "markdown",
      "metadata": {
        "id": "Gzuqx1jJrwVx"
      },
      "source": [
        "When we do a policy gradient update step we are going to want to do it using a batch of experience, rather than just a single experience like above. We can use JAX's [vmap](https://jax.readthedocs.io/en/latest/_autosummary/jax.vmap.html#jax.vmap) function to easily make our `policy_gradient_loss` function work on a batch of experience."
      ]
    },
    {
      "cell_type": "code",
      "execution_count": null,
      "metadata": {
        "colab": {
          "base_uri": "https://localhost:8080/"
        },
        "id": "3yq4naLURjM4",
        "outputId": "6f15178e-b963-4034-d040-66893218b376"
      },
      "outputs": [
        {
          "name": "stdout",
          "output_type": "stream",
          "text": [
            "Policy gradient loss on batch: 1.6967316\n"
          ]
        }
      ],
      "source": [
        "def batched_policy_gradient_loss(params, obs_batch, action_batch, returns_batch):\n",
        "    # Get logits by passing observation through network\n",
        "    logits_batch = POLICY_NETWORK.apply(params, obs_batch)\n",
        "\n",
        "    policy_gradient_loss_batch = jax.vmap(policy_gradient_loss)(action_batch, logits_batch, returns_batch) # add batch\n",
        "\n",
        "    # Compute mean loss over batch\n",
        "    mean_policy_gradient_loss = jnp.mean(policy_gradient_loss_batch)\n",
        "\n",
        "    return mean_policy_gradient_loss\n",
        "\n",
        "# TEST\n",
        "obs_batch = np.ones((3, *obs_shape), \"float32\")\n",
        "actions_batch = np.array([1,0,0])\n",
        "returns_batch = np.array([2.3, 4.3, 2.1])\n",
        "\n",
        "loss = batched_policy_gradient_loss(REINFORCE_params, obs_batch, actions_batch, returns_batch)\n",
        "\n",
        "print(\"Policy gradient loss on batch:\", loss)"
      ]
    },
    {
      "cell_type": "markdown",
      "metadata": {
        "id": "VDhTH3culwqo"
      },
      "source": [
        "### **Network Optimiser**\n",
        "\n",
        "To apply policy gradient updates to our neural network we will use a JAX library called [Optax](https://github.com/deepmind/optax). Optax has an implementation of the [Adam optimizer](https://www.geeksforgeeks.org/intuition-of-adam-optimizer/) which we can use."
      ]
    },
    {
      "cell_type": "code",
      "execution_count": null,
      "metadata": {
        "id": "pxXINlMHP5Ic"
      },
      "outputs": [],
      "source": [
        "REINFORCE_OPTIMIZER = optax.adam(1e-3)\n",
        "\n",
        "# Initialise the optimiser\n",
        "REINFORCE_optim_state = REINFORCE_OPTIMIZER.init(REINFORCE_params)"
      ]
    },
    {
      "cell_type": "markdown",
      "metadata": {
        "id": "ViENrHOALbCw"
      },
      "source": [
        "Now we have everything we need tp make the `REINFORCE_learn` function. We will store the state of the optimiser in the `learn_state`. We will compute the gradient of the policy gradient loss by using `jax.grad` ([docs](https://jax.readthedocs.io/en/latest/_autosummary/jax.grad.html))."
      ]
    },
    {
      "cell_type": "code",
      "execution_count": null,
      "metadata": {
        "id": "CQr2Uz5ORjM5"
      },
      "outputs": [],
      "source": [
        "# A NamedTuple to store the state of the optimiser\n",
        "REINFORCELearnState = collections.namedtuple(\"LearnerState\", [\"optim_state\"])\n",
        "\n",
        "\n",
        "def REINFORCE_learn(key, params, learner_state, memory):\n",
        "\n",
        "  # Get the policy gradient by using `jax.grad()` on `batched_policy_gradient_loss`\n",
        "  grad_loss = jax.grad(batched_policy_gradient_loss)(params, memory.obs, memory.action, memory.returns)\n",
        "\n",
        "  # Get param updates using gradient and optimizer\n",
        "  updates, new_optim_state = REINFORCE_OPTIMIZER.update(grad_loss, learner_state.optim_state)\n",
        "\n",
        "  # Apply updates to params\n",
        "  params = optax.apply_updates(params, updates)\n",
        "\n",
        "  return params, REINFORCELearnState(new_optim_state) # update learner state"
      ]
    },
    {
      "cell_type": "markdown",
      "metadata": {
        "id": "4yHI6H9q0BKf"
      },
      "source": [
        "### **RL Training Loop**\n",
        "As before, we provide the general RL training loop for you."
      ]
    },
    {
      "cell_type": "code",
      "execution_count": null,
      "metadata": {
        "id": "UDUbuJr30XN6"
      },
      "outputs": [],
      "source": [
        "#@title Training loop (run me) { display-mode: \"form\" }\n",
        "\n",
        "# NamedTuple to store transitions\n",
        "Transition = collections.namedtuple(\"Transition\", [\"obs\", \"action\", \"reward\", \"next_obs\", \"done\"])\n",
        "\n",
        "# Training Loop\n",
        "def run_training_loop(env_name, agent_params, agent_select_action_func,\n",
        "    agent_actor_state=None, agent_learn_func=None, agent_learner_state=None,\n",
        "    agent_memory=None, num_episodes=1000, evaluator_period=100,\n",
        "    evaluation_episodes=8, learn_steps_per_episode=1,\n",
        "    train_every_timestep=False, video_subdir=\"\",):\n",
        "    \"\"\"\n",
        "    This function runs several episodes in an environment and periodically does\n",
        "    some agent learning and evaluation.\n",
        "\n",
        "    Args:\n",
        "        env: a gym environment.\n",
        "        agent_params: an object to store parameters that the agent uses.\n",
        "        agent_select_func: a function that does action selection for the agent.\n",
        "        agent_actor_state (optional): an object that stores the internal state\n",
        "            of the agents action selection function.\n",
        "        agent_learn_func (optional): a function that does some learning for the\n",
        "            agent by updating the agent parameters.\n",
        "        agent_learn_state (optional): an object that stores the internal state\n",
        "            of the agent learn function.\n",
        "        agent_memory (optional): an object for storing an retrieving historical\n",
        "            experience.\n",
        "        num_episodes: how many episodes to run.\n",
        "        evaluator_period: how often to run evaluation.\n",
        "        evaluation_episodes: how many evaluation episodes to run.\n",
        "        train_every_timestep: whether to train every timestep rather than at the end\n",
        "            of the episode.\n",
        "        video_subdir: subdirectory to store epsiode recordings.\n",
        "\n",
        "    Returns:\n",
        "        episode_returns: list of all the episode returns.\n",
        "        evaluator_episode_returns: list of all the evaluator episode returns.\n",
        "    \"\"\"\n",
        "\n",
        "    # Setup Cartpole environment and recorder\n",
        "    env = gym.make(env_name, render_mode=\"rgb_array\") # training environment\n",
        "    eval_env = gym.make(env_name, render_mode=\"rgb_array\") # evaluation environment\n",
        "\n",
        "    # Video dir\n",
        "    video_dir = \"./video\"+\"/\"+video_subdir\n",
        "\n",
        "    # Clear video dir\n",
        "    try:\n",
        "      rmtree(video_dir)\n",
        "    except:\n",
        "      pass\n",
        "\n",
        "    # Wrap in recorder\n",
        "    env = RecordVideo(env, video_dir+\"/train\", episode_trigger=lambda x: (x % evaluator_period) == 0)\n",
        "    eval_env = RecordVideo(eval_env, video_dir+\"/eval\", episode_trigger=lambda x: (x % evaluation_episodes) == 0)\n",
        "\n",
        "    # JAX random number generator\n",
        "    rng = hk.PRNGSequence(jax.random.PRNGKey(0))\n",
        "    env.seed(0) # seed environment for reproducability\n",
        "    random.seed(0)\n",
        "\n",
        "    episode_returns = [] # List to store history of episode returns.\n",
        "    evaluator_episode_returns = [] # List to store history of evaluator returns.\n",
        "    timesteps = 0\n",
        "    for episode in range(num_episodes):\n",
        "\n",
        "        # Reset environment.\n",
        "        obs = env.reset()\n",
        "        episode_return = 0\n",
        "        done = False\n",
        "\n",
        "        while not done:\n",
        "\n",
        "            # Agent select action.\n",
        "            action, agent_actor_state = agent_select_action_func(\n",
        "                                            next(rng),\n",
        "                                            agent_params,\n",
        "                                            agent_actor_state,\n",
        "                                            np.array(obs)\n",
        "                                        )\n",
        "\n",
        "            # Step environment.\n",
        "            next_obs, reward, done, _ = env.step(int(action))\n",
        "\n",
        "            # Pack into transition.\n",
        "            transition = Transition(obs, action, reward, next_obs, done)\n",
        "\n",
        "            # Add transition to memory.\n",
        "            if agent_memory: # check if agent has memory\n",
        "              agent_memory.push(transition)\n",
        "\n",
        "            # Add reward to episode return.\n",
        "            episode_return += reward\n",
        "\n",
        "            # Set obs to next obs before next environment step. CRITICAL!!!\n",
        "            obs = next_obs\n",
        "\n",
        "            # Increment timestep counter\n",
        "            timesteps += 1\n",
        "\n",
        "            # Maybe learn every timestep\n",
        "            if train_every_timestep and (timesteps % 4 == 0) and agent_memory and agent_memory.is_ready(): # Make sure memory is ready\n",
        "                # First sample memory and then pass the result to the learn function\n",
        "                memory = agent_memory.sample()\n",
        "                agent_params, agent_learner_state = agent_learn_func(\n",
        "                                                        next(rng),\n",
        "                                                        agent_params,\n",
        "                                                        agent_learner_state,\n",
        "                                                        memory\n",
        "                                                    )\n",
        "\n",
        "        episode_returns.append(episode_return)\n",
        "\n",
        "        # At the end of every episode we do a learn step.\n",
        "        if agent_memory and agent_memory.is_ready(): # Make sure memory is ready\n",
        "\n",
        "            for _ in range(learn_steps_per_episode):\n",
        "                # First sample memory and then pass the result to the learn function\n",
        "                memory = agent_memory.sample()\n",
        "                agent_params, agent_learner_state = agent_learn_func(\n",
        "                                                        next(rng),\n",
        "                                                        agent_params,\n",
        "                                                        agent_learner_state,\n",
        "                                                        memory\n",
        "                                                    )\n",
        "\n",
        "        if (episode % evaluator_period) == 0: # Do evaluation\n",
        "\n",
        "            evaluator_episode_return = 0\n",
        "            for eval_episode in range(evaluation_episodes):\n",
        "                obs = eval_env.reset()\n",
        "                done = False\n",
        "                while not done:\n",
        "                    action, _ = agent_select_action_func(\n",
        "                                    next(rng),\n",
        "                                    agent_params,\n",
        "                                    agent_actor_state,\n",
        "                                    np.array(obs),\n",
        "                                    evaluation=True\n",
        "                                )\n",
        "\n",
        "                    obs, reward, done, _ = eval_env.step(int(action))\n",
        "\n",
        "                    evaluator_episode_return += reward\n",
        "\n",
        "            evaluator_episode_return /= evaluation_episodes\n",
        "\n",
        "            evaluator_episode_returns.append(evaluator_episode_return)\n",
        "\n",
        "            logs = [\n",
        "                    f\"Episode: {episode}\",\n",
        "                    f\"Episode Return: {episode_return}\",\n",
        "                    f\"Average Episode Return: {np.mean(episode_returns[-20:])}\",\n",
        "                    f\"Evaluator Episode Return: {evaluator_episode_return}\"\n",
        "            ]\n",
        "\n",
        "            print(*logs, sep=\"\\t\") # Print the logs\n",
        "\n",
        "    env.close()\n",
        "    eval_env.close()\n",
        "\n",
        "    return episode_returns, evaluator_episode_returns"
      ]
    },
    {
      "cell_type": "markdown",
      "metadata": {
        "id": "5an3U2NhRKgG"
      },
      "source": [
        "### **REINFORCE training loop**\n",
        "Now we can train our REINFORCE agent by putting everything together using the training loop."
      ]
    },
    {
      "cell_type": "code",
      "execution_count": null,
      "metadata": {
        "id": "8RS6ZNpJ0jNv"
      },
      "outputs": [],
      "source": [
        "# JIT the choose_action and learn functions for more speed\n",
        "REINFORCE_learn_jit = jax.jit(REINFORCE_learn)\n",
        "REINFORCE_choose_action_jit = jax.jit(REINFORCE_choose_action)"
      ]
    },
    {
      "cell_type": "code",
      "execution_count": null,
      "metadata": {
        "colab": {
          "background_save": true,
          "base_uri": "https://localhost:8080/"
        },
        "id": "vioIcVGsRjM5",
        "outputId": "a5d56d08-fcde-45c2-fa38-ae9efdc14b59"
      },
      "outputs": [
        {
          "name": "stdout",
          "output_type": "stream",
          "text": [
            "Starting training. This may take a few minutes to complete.\n",
            "Episode: 0\tEpisode Return: 12.0\tAverage Episode Return: 12.0\tEvaluator Episode Return: 17.375\n",
            "Episode: 100\tEpisode Return: 26.0\tAverage Episode Return: 40.1\tEvaluator Episode Return: 66.125\n",
            "Episode: 200\tEpisode Return: 266.0\tAverage Episode Return: 263.65\tEvaluator Episode Return: 172.125\n",
            "Episode: 300\tEpisode Return: 143.0\tAverage Episode Return: 157.45\tEvaluator Episode Return: 140.25\n",
            "Episode: 400\tEpisode Return: 212.0\tAverage Episode Return: 185.65\tEvaluator Episode Return: 240.75\n",
            "Episode: 500\tEpisode Return: 447.0\tAverage Episode Return: 371.4\tEvaluator Episode Return: 419.375\n",
            "Episode: 600\tEpisode Return: 142.0\tAverage Episode Return: 189.8\tEvaluator Episode Return: 193.875\n",
            "Episode: 700\tEpisode Return: 500.0\tAverage Episode Return: 358.4\tEvaluator Episode Return: 476.5\n",
            "Episode: 800\tEpisode Return: 500.0\tAverage Episode Return: 465.45\tEvaluator Episode Return: 497.5\n",
            "Episode: 900\tEpisode Return: 500.0\tAverage Episode Return: 470.7\tEvaluator Episode Return: 500.0\n",
            "Episode: 1000\tEpisode Return: 500.0\tAverage Episode Return: 479.35\tEvaluator Episode Return: 500.0\n",
            "Episode: 1100\tEpisode Return: 500.0\tAverage Episode Return: 473.35\tEvaluator Episode Return: 460.625\n",
            "Episode: 1200\tEpisode Return: 500.0\tAverage Episode Return: 451.55\tEvaluator Episode Return: 443.125\n",
            "Episode: 1300\tEpisode Return: 489.0\tAverage Episode Return: 421.65\tEvaluator Episode Return: 353.0\n",
            "Episode: 1400\tEpisode Return: 500.0\tAverage Episode Return: 446.5\tEvaluator Episode Return: 496.625\n",
            "Episode: 1500\tEpisode Return: 500.0\tAverage Episode Return: 500.0\tEvaluator Episode Return: 500.0\n",
            "Episode: 1600\tEpisode Return: 500.0\tAverage Episode Return: 500.0\tEvaluator Episode Return: 500.0\n",
            "Episode: 1700\tEpisode Return: 500.0\tAverage Episode Return: 496.5\tEvaluator Episode Return: 500.0\n",
            "Episode: 1800\tEpisode Return: 500.0\tAverage Episode Return: 490.3\tEvaluator Episode Return: 500.0\n",
            "Episode: 1900\tEpisode Return: 134.0\tAverage Episode Return: 173.9\tEvaluator Episode Return: 159.375\n",
            "Episode: 2000\tEpisode Return: 498.0\tAverage Episode Return: 317.85\tEvaluator Episode Return: 406.5\n",
            "Episode: 2100\tEpisode Return: 500.0\tAverage Episode Return: 415.65\tEvaluator Episode Return: 478.125\n",
            "Episode: 2200\tEpisode Return: 158.0\tAverage Episode Return: 190.7\tEvaluator Episode Return: 174.875\n",
            "Episode: 2300\tEpisode Return: 181.0\tAverage Episode Return: 205.35\tEvaluator Episode Return: 188.625\n",
            "Episode: 2400\tEpisode Return: 500.0\tAverage Episode Return: 500.0\tEvaluator Episode Return: 500.0\n"
          ]
        },
        {
          "data": {
            "image/png": "[encoded data removed]",
            "text/plain": [
              "<Figure size 640x480 with 1 Axes>"
            ]
          },
          "metadata": {},
          "output_type": "display_data"
        }
      ],
      "source": [
        "# Initial learn state\n",
        "REINFORCE_learn_state = REINFORCELearnState(REINFORCE_optim_state)\n",
        "\n",
        "# Run training loop\n",
        "print(\"Starting training. This may take a few minutes to complete.\")\n",
        "episode_returns, evaluator_returns = run_training_loop(\n",
        "                                        env_name,\n",
        "                                        REINFORCE_params,\n",
        "                                        REINFORCE_choose_action_jit,\n",
        "                                        None, # action state not used\n",
        "                                        REINFORCE_learn_jit,\n",
        "                                        REINFORCE_learn_state,\n",
        "                                        REINFORCE_memory,\n",
        "                                        num_episodes=2500,\n",
        "                                        learn_steps_per_episode=2,\n",
        "                                        video_subdir=\"reinforce\"\n",
        "                                      )\n",
        "\n",
        "# Plot the episode returns\n",
        "plt.plot(episode_returns)\n",
        "plt.xlabel(\"Episode\")\n",
        "plt.ylabel(\"Episode Return\")\n",
        "plt.title(\"REINFORCE\")\n",
        "plt.show()\n"
      ]
    },
    {
      "cell_type": "code",
      "execution_count": null,
      "metadata": {
        "colab": {
          "background_save": true
        },
        "id": "caKL3ngNr_Yh",
        "outputId": "3b8ff2eb-16e8-48ff-bd7b-47ab7fadec47"
      },
      "outputs": [
        {
          "data": {
            "text/html": [
              "\n",
              "<video width=400 controls>\n",
              "      <source src=\"data:video/mp4;base64,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\" type=\"video/mp4\">\n",
              "</video>\n"
            ],
            "text/plain": [
              "<IPython.core.display.HTML object>"
            ]
          },
          "execution_count": 22,
          "metadata": {},
          "output_type": "execute_result"
        }
      ],
      "source": [
        "#@title Visualise Policy {display-mode: \"form\"}\n",
        "#@markdown Choose an episode number that is a multiple of 100, and **run this cell**.\n",
        "\n",
        "episode_number = 2000 #@param {type:\"number\"}\n",
        "\n",
        "assert (episode_number % 100) == 0, \"Episode number must be a multiple of 100 since we only record every 100th episode.\"\n",
        "\n",
        "eval_episode_number = int(episode_number / 100 * 8)\n",
        "video_path = f\"./video/reinforce/eval/rl-video-episode-{eval_episode_number}.mp4\"\n",
        "\n",
        "mp4 = open(video_path,'rb').read()\n",
        "data_url = \"data:video/mp4;base64,\" + b64encode(mp4).decode()\n",
        "HTML(\"\"\"\n",
        "<video width=400 controls>\n",
        "      <source src=\"%s\" type=\"video/mp4\">\n",
        "</video>\n",
        "\"\"\" % data_url)"
      ]
    },
    {
      "cell_type": "code",
      "execution_count": null,
      "metadata": {
        "colab": {
          "background_save": true
        },
        "id": "Wf2J1SvuwDMw"
      },
      "outputs": [],
      "source": []
    }
  ],
  "metadata": {
    "accelerator": "GPU",
    "colab": {
      "gpuType": "T4",
      "provenance": []
    },
    "kernelspec": {
      "display_name": "Python 3",
      "name": "python3"
    },
    "language_info": {
      "codemirror_mode": {
        "name": "ipython",
        "version": 3
      },
      "file_extension": ".py",
      "mimetype": "text/x-python",
      "name": "python",
      "nbconvert_exporter": "python",
      "pygments_lexer": "ipython3",
      "version": "3.8.13"
    },
    "vscode": {
      "interpreter": {
        "hash": "0f35138c66f99be0fd7a1210bb4aa94a6fbaa5f29d51ad43aec0e0ea0ff050f0"
      }
    }
  },
  "nbformat": 4,
  "nbformat_minor": 0
}
